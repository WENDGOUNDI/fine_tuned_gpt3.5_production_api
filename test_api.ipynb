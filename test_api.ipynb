{
 "cells": [
  {
   "cell_type": "code",
   "execution_count": 1,
   "metadata": {},
   "outputs": [],
   "source": [
    "# Import libraries\n",
    "import requests # type: ignore\n",
    "import pprint"
   ]
  },
  {
   "cell_type": "code",
   "execution_count": 2,
   "metadata": {},
   "outputs": [
    {
     "name": "stdout",
     "output_type": "stream",
     "text": [
      "('{\\n'\n",
      " '  \"chatbot_response\": \"Keep it simple with a white t-shirt or button-down '\n",
      " 'shirt for a classic and stylish look.\",\\n'\n",
      " '  \"mimetype\": \"application/json\",\\n'\n",
      " '  \"status\": 200\\n'\n",
      " '}\\n')\n"
     ]
    }
   ],
   "source": [
    "myinput = \"what can I wear with a black jeans as a man?\"\n",
    "response = requests.get(f\"http://127.0.0.1:5000/llmchatbot?userchat={myinput}\")\n",
    "pprint.pprint(response.text)"
   ]
  },
  {
   "cell_type": "code",
   "execution_count": null,
   "metadata": {},
   "outputs": [],
   "source": []
  }
 ],
 "metadata": {
  "kernelspec": {
   "display_name": "llmenv",
   "language": "python",
   "name": "python3"
  },
  "language_info": {
   "codemirror_mode": {
    "name": "ipython",
    "version": 3
   },
   "file_extension": ".py",
   "mimetype": "text/x-python",
   "name": "python",
   "nbconvert_exporter": "python",
   "pygments_lexer": "ipython3",
   "version": "3.9.13"
  }
 },
 "nbformat": 4,
 "nbformat_minor": 2
}
